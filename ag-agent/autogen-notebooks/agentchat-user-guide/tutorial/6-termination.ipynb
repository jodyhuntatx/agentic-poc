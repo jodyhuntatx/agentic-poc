{
 "cells": [
  {
   "cell_type": "markdown",
   "metadata": {},
   "source": [
    "# Termination \n",
    "\n",
    "In the previous section, we explored how to define agents, and organize them into teams that can solve tasks. However, a run can go on forever, and in many cases, we need to know _when_ to stop them. This is the role of the termination condition.\n",
    "\n",
    "AgentChat supports several termination condition by providing a base {py:class}`~autogen_agentchat.base.TerminationCondition` class and several implementations that inherit from it.\n",
    "\n",
    "A termination condition is a callable that takes a sequece of {py:class}`~autogen_agentchat.messages.AgentEvent` or {py:class}`~autogen_agentchat.messages.ChatMessage` objects **since the last time the condition was called**, and returns a {py:class}`~autogen_agentchat.messages.StopMessage` if the conversation should be terminated, or `None` otherwise.\n",
    "Once a termination condition has been reached, it must be reset by calling {py:meth}`~autogen_agentchat.base.TerminationCondition.reset` before it can be used again.\n",
    "\n",
    "Some important things to note about termination conditions: \n",
    "- They are stateful but reset automatically after each run ({py:meth}`~autogen_agentchat.base.TaskRunner.run` or {py:meth}`~autogen_agentchat.base.TaskRunner.run_stream`) is finished.\n",
    "- They can be combined using the AND and OR operators.\n",
    "\n",
    "```{note}\n",
    "For group chat teams (i.e., {py:class}`~autogen_agentchat.teams.RoundRobinGroupChat`,\n",
    "{py:class}`~autogen_agentchat.teams.SelectorGroupChat`, and {py:class}`~autogen_agentchat.teams.Swarm`),\n",
    "the termination condition is called after each agent responds.\n",
    "While a response may contain multiple inner messages, the team calls its termination condition just once for all the messages from a single response.\n",
    "So the condition is called with the \"delta sequence\" of messages since the last time it was called.\n",
    "```"
   ]
  },
  {
   "cell_type": "markdown",
   "metadata": {},
   "source": [
    "Built-In Termination Conditions: \n",
    "1. {py:class}`~autogen_agentchat.conditions.MaxMessageTermination`: Stops after a specified number of messages have been produced, including both agent and task messages.\n",
    "2. {py:class}`~autogen_agentchat.conditions.TextMentionTermination`: Stops when specific text or string is mentioned in a message (e.g., \"TERMINATE\").\n",
    "3. {py:class}`~autogen_agentchat.conditions.TokenUsageTermination`: Stops when a certain number of prompt or completion tokens are used. This requires the agents to report token usage in their messages.\n",
    "4. {py:class}`~autogen_agentchat.conditions.TimeoutTermination`: Stops after a specified duration in seconds.\n",
    "5. {py:class}`~autogen_agentchat.conditions.HandoffTermination`: Stops when a handoff to a specific target is requested. Handoff messages can be used to build patterns such as {py:class}`~autogen_agentchat.teams.Swarm`. This is useful when you want to pause the run and allow application or user to provide input when an agent hands off to them.\n",
    "6. {py:class}`~autogen_agentchat.conditions.SourceMatchTermination`: Stops after a specific agent responds.\n",
    "7. {py:class}`~autogen_agentchat.conditions.ExternalTermination`: Enables programmatic control of termination from outside the run. This is useful for UI integration (e.g., \"Stop\" buttons in chat interfaces).\n",
    "8. {py:class}`~autogen_agentchat.conditions.StopMessageTermination`: Stops when a {py:class}`~autogen_agentchat.messages.StopMessage` is produced by an agent."
   ]
  },
  {
   "cell_type": "markdown",
   "metadata": {},
   "source": [
    "To demonstrate the characteristics of termination conditions, we'll create a team consisting of two agents: a primary agent responsible for text generation and a critic agent that reviews and provides feedback on the generated text."
   ]
  },
  {
   "cell_type": "code",
   "execution_count": 1,
   "metadata": {},
   "outputs": [],
   "source": [
    "%%capture\n",
    "# capture magic suppresses install output\n",
    "!poetry add autogen_core autogen_ext autogen_agentchat openai tiktoken"
   ]
  },
  {
   "cell_type": "code",
   "execution_count": 2,
   "metadata": {},
   "outputs": [],
   "source": [
    "from autogen_agentchat.agents import AssistantAgent\n",
    "from autogen_agentchat.conditions import MaxMessageTermination, TextMentionTermination\n",
    "from autogen_agentchat.teams import RoundRobinGroupChat\n",
    "from autogen_agentchat.ui import Console\n",
    "from autogen_ext.models.openai import OpenAIChatCompletionClient\n",
    "\n",
    "model_client = OpenAIChatCompletionClient(\n",
    "    model=\"gpt-4o\",\n",
    "    temperature=1,\n",
    "    # api_key=\"sk-...\", # Optional if you have an OPENAI_API_KEY env variable set.\n",
    ")\n",
    "\n",
    "# Create the primary agent.\n",
    "primary_agent = AssistantAgent(\n",
    "    \"primary\",\n",
    "    model_client=model_client,\n",
    "    system_message=\"You are a helpful AI assistant.\",\n",
    ")\n",
    "\n",
    "# Create the critic agent.\n",
    "critic_agent = AssistantAgent(\n",
    "    \"critic\",\n",
    "    model_client=model_client,\n",
    "    system_message=\"Provide constructive feedback for every message. Respond with 'APPROVE' to when your feedbacks are addressed.\",\n",
    ")"
   ]
  },
  {
   "cell_type": "markdown",
   "metadata": {},
   "source": [
    "Let's explore how termination conditions automatically reset after each `run` or `run_stream` call, allowing the team to resume its conversation from where it left off."
   ]
  },
  {
   "cell_type": "code",
   "execution_count": 3,
   "metadata": {},
   "outputs": [
    {
     "name": "stdout",
     "output_type": "stream",
     "text": [
      "---------- user ----------\n",
      "Write a unique, Haiku about the weather in Paris\n",
      "---------- primary ----------\n",
      "Rain-kissed cobblestones,  \n",
      "Whispers weave through autumn leaves—  \n",
      "Eiffel shrouded gray.\n",
      "---------- critic ----------\n",
      "This is a beautiful and evocative Haiku that captures the essence of Parisian weather. The imagery of \"Rain-kissed cobblestones\" immediately sets a rainy, atmospheric scene. The second line, \"Whispers weave through autumn leaves,\" suggests movement and a gentle, possibly melancholic feel that aligns well with typical autumn weather. The final line, \"Eiffel shrouded gray,\" ties in the iconic Paris landmark with the gray skies, completing the picture vividly. \n",
      "\n",
      "Feedback: Consider varying the use of adjectives or adding a personal touch or emotion to deepen the imagery even further. This could enhance the connection for readers who may not have experienced the Paris weather firsthand.\n",
      "\n",
      "Otherwise, excellently composed!  \n",
      "\n",
      "Let me know if you'd like to refine or expand further.\n"
     ]
    },
    {
     "data": {
      "text/plain": [
       "TaskResult(messages=[TextMessage(source='user', models_usage=None, content='Write a unique, Haiku about the weather in Paris', type='TextMessage'), TextMessage(source='primary', models_usage=RequestUsage(prompt_tokens=30, completion_tokens=24), content='Rain-kissed cobblestones,  \\nWhispers weave through autumn leaves—  \\nEiffel shrouded gray.', type='TextMessage'), TextMessage(source='critic', models_usage=RequestUsage(prompt_tokens=74, completion_tokens=155), content='This is a beautiful and evocative Haiku that captures the essence of Parisian weather. The imagery of \"Rain-kissed cobblestones\" immediately sets a rainy, atmospheric scene. The second line, \"Whispers weave through autumn leaves,\" suggests movement and a gentle, possibly melancholic feel that aligns well with typical autumn weather. The final line, \"Eiffel shrouded gray,\" ties in the iconic Paris landmark with the gray skies, completing the picture vividly. \\n\\nFeedback: Consider varying the use of adjectives or adding a personal touch or emotion to deepen the imagery even further. This could enhance the connection for readers who may not have experienced the Paris weather firsthand.\\n\\nOtherwise, excellently composed!  \\n\\nLet me know if you\\'d like to refine or expand further.', type='TextMessage')], stop_reason='Maximum number of messages 3 reached, current message count: 3')"
      ]
     },
     "execution_count": 3,
     "metadata": {},
     "output_type": "execute_result"
    }
   ],
   "source": [
    "max_msg_termination = MaxMessageTermination(max_messages=3)\n",
    "round_robin_team = RoundRobinGroupChat([primary_agent, critic_agent], termination_condition=max_msg_termination)\n",
    "\n",
    "# Use asyncio.run(...) if you are running this script as a standalone script.\n",
    "await Console(round_robin_team.run_stream(task=\"Write a unique, Haiku about the weather in Paris\"))"
   ]
  },
  {
   "cell_type": "markdown",
   "metadata": {},
   "source": [
    "The conversation stopped after reaching the maximum message limit. Since the primary agent didn't get to respond to the feedback, let's continue the conversation."
   ]
  },
  {
   "cell_type": "code",
   "execution_count": 4,
   "metadata": {},
   "outputs": [
    {
     "name": "stdout",
     "output_type": "stream",
     "text": [
      "---------- primary ----------\n",
      "Thank you for the thoughtful feedback! I'm glad you enjoyed the Haiku. Here's a revision that adds a personal touch:\n",
      "\n",
      "Cobblestones shine bright,  \n",
      "Autumn's breath hums soft and low—  \n",
      "Paris sighs with me.  \n",
      "\n",
      "This version maintains the core imagery while introducing a sense of shared experience and emotion. If you'd like further adjustments, feel free to let me know!\n",
      "---------- critic ----------\n",
      "Your revised Haiku beautifully integrates the personal connection, making it even more engaging for readers. The phrase \"Paris sighs with me\" adds emotional depth and a sense of companionship with the city's weather, which is wonderfully effective. \n",
      "\n",
      "Feedback: The Haiku successfully evokes vivid imagery and emotion, making it relatable and evocative. There isn't much to improve in this refined version, but ensure the rhythm flows naturally as some variations might slightly alter the original 5-7-5 syllable structure traditionally found in Haikus. \n",
      "\n",
      "Otherwise, it's a delightful revision. Well done!\n",
      "\n",
      "APPROVE\n",
      "---------- primary ----------\n",
      "Thank you for the approval and the insightful feedback. I'm delighted that the revised Haiku resonated with you. If there's anything else you'd like to explore or discuss, feel free to let me know!\n"
     ]
    },
    {
     "data": {
      "text/plain": [
       "TaskResult(messages=[TextMessage(source='primary', models_usage=RequestUsage(prompt_tokens=219, completion_tokens=79), content=\"Thank you for the thoughtful feedback! I'm glad you enjoyed the Haiku. Here's a revision that adds a personal touch:\\n\\nCobblestones shine bright,  \\nAutumn's breath hums soft and low—  \\nParis sighs with me.  \\n\\nThis version maintains the core imagery while introducing a sense of shared experience and emotion. If you'd like further adjustments, feel free to let me know!\", type='TextMessage'), TextMessage(source='critic', models_usage=RequestUsage(prompt_tokens=318, completion_tokens=119), content='Your revised Haiku beautifully integrates the personal connection, making it even more engaging for readers. The phrase \"Paris sighs with me\" adds emotional depth and a sense of companionship with the city\\'s weather, which is wonderfully effective. \\n\\nFeedback: The Haiku successfully evokes vivid imagery and emotion, making it relatable and evocative. There isn\\'t much to improve in this refined version, but ensure the rhythm flows naturally as some variations might slightly alter the original 5-7-5 syllable structure traditionally found in Haikus. \\n\\nOtherwise, it\\'s a delightful revision. Well done!\\n\\nAPPROVE', type='TextMessage'), TextMessage(source='primary', models_usage=RequestUsage(prompt_tokens=427, completion_tokens=41), content=\"Thank you for the approval and the insightful feedback. I'm delighted that the revised Haiku resonated with you. If there's anything else you'd like to explore or discuss, feel free to let me know!\", type='TextMessage')], stop_reason='Maximum number of messages 3 reached, current message count: 3')"
      ]
     },
     "execution_count": 4,
     "metadata": {},
     "output_type": "execute_result"
    }
   ],
   "source": [
    "# Use asyncio.run(...) if you are running this script as a standalone script.\n",
    "await Console(round_robin_team.run_stream())"
   ]
  },
  {
   "cell_type": "markdown",
   "metadata": {},
   "source": [
    "The team continued from where it left off, allowing the primary agent to respond to the feedback."
   ]
  },
  {
   "cell_type": "markdown",
   "metadata": {},
   "source": [
    "Next, let's show how termination conditions can be combined using the AND (`&`) and OR (`|`) operators to create more complex termination logic. For example, we'll create a team that stops either after 10 messages are generated or when the critic agent approves a message.\n"
   ]
  },
  {
   "cell_type": "code",
   "execution_count": 5,
   "metadata": {},
   "outputs": [
    {
     "name": "stdout",
     "output_type": "stream",
     "text": [
      "---------- user ----------\n",
      "Write a unique, Haiku about the weather in Paris\n",
      "---------- primary ----------\n",
      "Misty dawns unfold,  \n",
      "Seine's whispers in the crisp air—  \n",
      "Paris draped in gold.\n",
      "---------- critic ----------\n",
      "This Haiku beautifully captures the serene and enchanting atmosphere of Paris through its weather. The opening line, \"Misty dawns unfold,\" evokes a sense of calm and beginnings, setting the stage for a picturesque morning. \"Seine's whispers in the crisp air\" effectively personifies the river, adding a gentle auditory element that further immerses the reader. Finally, \"Paris draped in gold\" presents a striking visual, suggesting the warm tones of a city bathed in sunlight.\n",
      "\n",
      "Feedback: The Haiku is vivid and emotive, however, consider exploring a slightly different aspect or mood of Parisian weather to make it even more unique. Perhaps referencing a specific seasonal change or unexpected weather twist could add another layer of depth.\n",
      "\n",
      "Overall, this is a captivating depiction. Well done!\n",
      "---------- primary ----------\n",
      "Thank you for your kind words and thoughtful feedback. Here's a revised version that highlights a different aspect of Parisian weather:\n",
      "\n",
      "Chill winds swirl past lamps,  \n",
      "Frosted paths beneath bare trees—  \n",
      "Winter’s gentle touch.  \n",
      "\n",
      "This version captures the charm of a wintry day in Paris. Let me know if you’d like any further adjustments!\n",
      "---------- critic ----------\n",
      "Your revised Haiku beautifully encapsulates the essence of a wintry day in Paris. The notion of \"Chill winds swirl past lamps\" paints an evocative image of a cold breeze interacting with the urban landscape. The line \"Frosted paths beneath bare trees\" adds a textural element, emphasizing the seasonal change and the quiet beauty of winter. \"Winter’s gentle touch\" personifies the season delicately, creating a serene and peaceful conclusion.\n",
      "\n",
      "Feedback: This Haiku effectively captures a different facet of Parisian weather and presents a vivid image. It's concise, clear, and strong in imagery. Excellent work!\n",
      "\n",
      "APPROVE\n"
     ]
    },
    {
     "data": {
      "text/plain": [
       "TaskResult(messages=[TextMessage(source='user', models_usage=None, content='Write a unique, Haiku about the weather in Paris', type='TextMessage'), TextMessage(source='primary', models_usage=RequestUsage(prompt_tokens=489, completion_tokens=24), content=\"Misty dawns unfold,  \\nSeine's whispers in the crisp air—  \\nParis draped in gold.\", type='TextMessage'), TextMessage(source='critic', models_usage=RequestUsage(prompt_tokens=487, completion_tokens=158), content='This Haiku beautifully captures the serene and enchanting atmosphere of Paris through its weather. The opening line, \"Misty dawns unfold,\" evokes a sense of calm and beginnings, setting the stage for a picturesque morning. \"Seine\\'s whispers in the crisp air\" effectively personifies the river, adding a gentle auditory element that further immerses the reader. Finally, \"Paris draped in gold\" presents a striking visual, suggesting the warm tones of a city bathed in sunlight.\\n\\nFeedback: The Haiku is vivid and emotive, however, consider exploring a slightly different aspect or mood of Parisian weather to make it even more unique. Perhaps referencing a specific seasonal change or unexpected weather twist could add another layer of depth.\\n\\nOverall, this is a captivating depiction. Well done!', type='TextMessage'), TextMessage(source='primary', models_usage=RequestUsage(prompt_tokens=681, completion_tokens=72), content=\"Thank you for your kind words and thoughtful feedback. Here's a revised version that highlights a different aspect of Parisian weather:\\n\\nChill winds swirl past lamps,  \\nFrosted paths beneath bare trees—  \\nWinter’s gentle touch.  \\n\\nThis version captures the charm of a wintry day in Paris. Let me know if you’d like any further adjustments!\", type='TextMessage'), TextMessage(source='critic', models_usage=RequestUsage(prompt_tokens=727, completion_tokens=128), content='Your revised Haiku beautifully encapsulates the essence of a wintry day in Paris. The notion of \"Chill winds swirl past lamps\" paints an evocative image of a cold breeze interacting with the urban landscape. The line \"Frosted paths beneath bare trees\" adds a textural element, emphasizing the seasonal change and the quiet beauty of winter. \"Winter’s gentle touch\" personifies the season delicately, creating a serene and peaceful conclusion.\\n\\nFeedback: This Haiku effectively captures a different facet of Parisian weather and presents a vivid image. It\\'s concise, clear, and strong in imagery. Excellent work!\\n\\nAPPROVE', type='TextMessage')], stop_reason=\"Text 'APPROVE' mentioned\")"
      ]
     },
     "execution_count": 5,
     "metadata": {},
     "output_type": "execute_result"
    }
   ],
   "source": [
    "max_msg_termination = MaxMessageTermination(max_messages=10)\n",
    "text_termination = TextMentionTermination(\"APPROVE\")\n",
    "combined_termination = max_msg_termination | text_termination\n",
    "\n",
    "round_robin_team = RoundRobinGroupChat([primary_agent, critic_agent], termination_condition=combined_termination)\n",
    "\n",
    "# Use asyncio.run(...) if you are running this script as a standalone script.\n",
    "await Console(round_robin_team.run_stream(task=\"Write a unique, Haiku about the weather in Paris\"))"
   ]
  },
  {
   "cell_type": "markdown",
   "metadata": {},
   "source": [
    "The conversation stopped after the critic agent approved the message, although it could have also stopped if 10 messages were generated.\n",
    "\n",
    "Alternatively, if we want to stop the run only when both conditions are met, we can use the AND (`&`) operator."
   ]
  },
  {
   "cell_type": "code",
   "execution_count": 6,
   "metadata": {},
   "outputs": [],
   "source": [
    "combined_termination = max_msg_termination & text_termination"
   ]
  },
  {
   "cell_type": "code",
   "execution_count": null,
   "metadata": {},
   "outputs": [],
   "source": []
  }
 ],
 "metadata": {
  "kernelspec": {
   "display_name": "Python 3 (ipykernel)",
   "language": "python",
   "name": "python3"
  },
  "language_info": {
   "codemirror_mode": {
    "name": "ipython",
    "version": 3
   },
   "file_extension": ".py",
   "mimetype": "text/x-python",
   "name": "python",
   "nbconvert_exporter": "python",
   "pygments_lexer": "ipython3",
   "version": "3.10.13"
  }
 },
 "nbformat": 4,
 "nbformat_minor": 4
}
