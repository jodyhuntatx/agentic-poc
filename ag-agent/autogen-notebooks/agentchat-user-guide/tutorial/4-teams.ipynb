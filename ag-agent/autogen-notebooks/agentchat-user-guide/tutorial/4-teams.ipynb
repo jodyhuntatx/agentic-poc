{
 "cells": [
  {
   "cell_type": "markdown",
   "metadata": {},
   "source": [
    "# Teams\n",
    "\n",
    "In this section you'll learn how to create a _multi-agent team_ (or simply team) using AutoGen. A team is a group of agents that work together to achieve a common goal.\n",
    "\n",
    "We'll first show you how to create and run a team. We'll then explain how to observe the team's behavior, which is crucial for debugging and understanding the team's performance, and common operations to control the team's behavior.\n",
    "\n",
    "```{note}\n",
    "When should you use a team?\n",
    "Teams are for complex tasks that require collaboration and diverse expertise.\n",
    "However, they also demand more scaffolding to steer compared to single agents.\n",
    "While AutoGen simplifies the process of working with teams, start with\n",
    "a single agent for simpler tasks, and transition to a multi-agent team when a single agent proves inadequate.\n",
    "Ensure that you have optimized your single agent with the appropriate tools\n",
    "and instructions before moving to a team-based approach.\n",
    "```"
   ]
  },
  {
   "cell_type": "markdown",
   "metadata": {},
   "source": [
    "## Creating a Team\n",
    "\n",
    "{py:class}`~autogen_agentchat.teams.RoundRobinGroupChat` is a simple yet effective team configuration where all agents share the same context and take turns responding in a round-robin fashion. Each agent, during its turn, broadcasts its response to all other agents, ensuring that the entire team maintains a consistent context.\n",
    "\n",
    "We will begin by creating a team with two {py:class}`~autogen_agentchat.agents.AssistantAgent` and a {py:class}`~autogen_agentchat.conditions.TextMentionTermination` condition that stops the team when a specific word is detected in the agent's response.\n",
    "\n",
    "The two-agent team implements the _reflection_ pattern, a multi-agent design pattern where a critic agent evaluates the responses of a primary agent. Learn more about the reflection pattern using the [Core API](../../core-user-guide/design-patterns/reflection.ipynb)."
   ]
  },
  {
   "cell_type": "code",
   "execution_count": 1,
   "metadata": {},
   "outputs": [],
   "source": [
    "%%capture\n",
    "# capture magic suppresses installation output\n",
    "!poetry add autogen_core autogen_ext autogen_agentchat tiktoken openai"
   ]
  },
  {
   "cell_type": "code",
   "execution_count": 2,
   "metadata": {},
   "outputs": [],
   "source": [
    "import asyncio\n",
    "\n",
    "from autogen_agentchat.agents import AssistantAgent\n",
    "from autogen_agentchat.base import TaskResult\n",
    "from autogen_agentchat.conditions import ExternalTermination, TextMentionTermination\n",
    "from autogen_agentchat.teams import RoundRobinGroupChat\n",
    "from autogen_agentchat.ui import Console\n",
    "from autogen_core import CancellationToken\n",
    "from autogen_ext.models.openai import OpenAIChatCompletionClient\n",
    "\n",
    "# Create an OpenAI model client.\n",
    "model_client = OpenAIChatCompletionClient(\n",
    "    model=\"gpt-4o-2024-08-06\",\n",
    "    # api_key=\"sk-...\", # Optional if you have an OPENAI_API_KEY env variable set.\n",
    ")\n",
    "\n",
    "# Create the primary agent.\n",
    "primary_agent = AssistantAgent(\n",
    "    \"primary\",\n",
    "    model_client=model_client,\n",
    "    system_message=\"You are a helpful AI assistant.\",\n",
    ")\n",
    "\n",
    "# Create the critic agent.\n",
    "critic_agent = AssistantAgent(\n",
    "    \"critic\",\n",
    "    model_client=model_client,\n",
    "    system_message=\"Provide constructive feedback. Respond with 'APPROVE' to when your feedbacks are addressed.\",\n",
    ")\n",
    "\n",
    "# Define a termination condition that stops the task if the critic approves.\n",
    "text_termination = TextMentionTermination(\"APPROVE\")\n",
    "\n",
    "# Create a team with the primary and critic agents.\n",
    "team = RoundRobinGroupChat([primary_agent, critic_agent], termination_condition=text_termination)"
   ]
  },
  {
   "cell_type": "markdown",
   "metadata": {},
   "source": [
    "## Running a Team\n",
    "\n",
    "Let's call the {py:meth}`~autogen_agentchat.teams.BaseGroupChat.run` method\n",
    "to start the team with a task."
   ]
  },
  {
   "cell_type": "code",
   "execution_count": 3,
   "metadata": {},
   "outputs": [
    {
     "name": "stdout",
     "output_type": "stream",
     "text": [
      "TaskResult(messages=[TextMessage(source='user', models_usage=None, content='Write a short poem about the fall season.', type='TextMessage'), TextMessage(source='primary', models_usage=RequestUsage(prompt_tokens=28, completion_tokens=103), content=\"Leaves of amber gently fall,  \\nWhispering winds begin to call.  \\nCooler nights and shorter days,  \\nIn autumn’s glow, the world decays.  \\n\\nPumpkin patches, fields of gold,  \\nStories by the fire told.  \\nSweaters wrapped and cider's cheer,  \\nThe harvest time is finally here.  \\n\\nNature dons her warmest hue,  \\nPainting skies a deeper blue.  \\nThough the chill begins to grow,  \\nIn fall's embrace, we find a glow.  \", type='TextMessage'), TextMessage(source='critic', models_usage=RequestUsage(prompt_tokens=148, completion_tokens=203), content='This poem provides a beautiful depiction of the fall season, capturing both its visual and sensory elements. Here are a few points to consider for enhancement:\\n\\n1. **Imagery Enhancement**: The poem does a good job of painting the visuals of fall. Consider adding more vivid imagery to invoke a stronger sensory experience, such as the smell of fallen leaves or the taste of warm apple pie.\\n\\n2. **Structure and Flow**: The rhyme scheme is consistent, which creates a nice flow. However, consider experimenting with different poetic devices like alliteration or assonance to add more rhythm or emphasize certain lines.\\n\\n3. **Emotional Depth**: While the poem mentions the seasonal transformation, consider exploring the emotional transition that comes with fall, such as nostalgia or the anticipation of winter, to give the poem more depth.\\n\\nOverall, the poem does well in celebrating the essence of autumn, encapsulating its sights, sounds, and communal activities. Adding a bit more in these areas could make it even more evocative.', type='TextMessage'), TextMessage(source='primary', models_usage=RequestUsage(prompt_tokens=344, completion_tokens=160), content=\"Thank you for the thoughtful feedback! Here’s a revised version incorporating your suggestions:\\n\\nCrimson leaves in swirling dance,  \\nEarth in gold, a fleeting glance.  \\nCrisp air carries whispers low,  \\nIn autumn's arms, memories flow.  \\n\\nCandles flicker, warm and bright,  \\nSpices blend in sweet delight.  \\nApple pie and laughter's sway,  \\nHarvest dreams in twilight play.  \\n\\nFootsteps crunch on paths of old,  \\nStories of yore in twilight told.  \\nUnderneath the starry dome,  \\nIn fall's embrace, we feel at home.  \\n\\nSeason's end, yet hearts ignite,  \\nAwake the soul in autumn’s light.  \\nThough the chill may hint of frost,  \\nIn every leaf, we find what’s lost.\", type='TextMessage'), TextMessage(source='critic', models_usage=RequestUsage(prompt_tokens=521, completion_tokens=211), content=\"The revised version of your fall poem is even more evocative and immersive, successfully incorporating the suggestions provided:\\n\\n1. **Imagery Enhancement**: The use of “Crimson leaves in swirling dance” and “Crisp air carries whispers low” creates vivid imagery that enhances the sensory experience beautifully. The addition of “Apple pie and laughter's sway” effectively engages more senses.\\n\\n2. **Structure and Flow**: You’ve maintained a pleasant rhyme scheme while introducing more rhythm and lyricism with phrases like “Candles flicker, warm and bright” and “Footsteps crunch on paths of old,” adding a nice musical quality to the piece.\\n\\n3. **Emotional Depth**: The poem now incorporates more emotional elements with lines like “In autumn's arms, memories flow” and “In every leaf, we find what’s lost.” These aspects add depth and nostalgia, capturing the emotional transition that accompanies the seasonal change.\\n\\nOverall, your revised poem invokes the essence of autumn with a strong sensory and emotional connection. Excellent revision!\\n\\nAPPROVE\", type='TextMessage')], stop_reason=\"Text 'APPROVE' mentioned\")\n"
     ]
    }
   ],
   "source": [
    "# Use `asyncio.run(...)` when running in a script.\n",
    "result = await team.run(task=\"Write a short poem about the fall season.\")\n",
    "print(result)"
   ]
  },
  {
   "cell_type": "code",
   "execution_count": 5,
   "metadata": {},
   "outputs": [
    {
     "name": "stdout",
     "output_type": "stream",
     "text": [
      "Thank you for the thoughtful feedback! Here’s a revised version incorporating your suggestions:\n",
      "\n",
      "Crimson leaves in swirling dance,  \n",
      "Earth in gold, a fleeting glance.  \n",
      "Crisp air carries whispers low,  \n",
      "In autumn's arms, memories flow.  \n",
      "\n",
      "Candles flicker, warm and bright,  \n",
      "Spices blend in sweet delight.  \n",
      "Apple pie and laughter's sway,  \n",
      "Harvest dreams in twilight play.  \n",
      "\n",
      "Footsteps crunch on paths of old,  \n",
      "Stories of yore in twilight told.  \n",
      "Underneath the starry dome,  \n",
      "In fall's embrace, we feel at home.  \n",
      "\n",
      "Season's end, yet hearts ignite,  \n",
      "Awake the soul in autumn’s light.  \n",
      "Though the chill may hint of frost,  \n",
      "In every leaf, we find what’s lost.\n"
     ]
    }
   ],
   "source": [
    "print(result.messages[-2].content)"
   ]
  },
  {
   "cell_type": "markdown",
   "metadata": {},
   "source": [
    "The team runs the agents until the termination condition was met.\n",
    "In this case, the team ran agents following a round-robin order until the the\n",
    "termination condition was met when the word \"TERMINATE\" was detected in the\n",
    "agent's response.\n",
    "When the team stops, it returns a {py:class}`~autogen_agentchat.base.TaskResult` object with all the messages produced by the agents in the team."
   ]
  },
  {
   "cell_type": "markdown",
   "metadata": {},
   "source": [
    "## Observing a Team\n",
    "\n",
    "Similar to the agent's {py:meth}`~autogen_agentchat.agents.BaseChatAgent.on_messages_stream` method, you can stream the team's messages while it is running by calling the {py:meth}`~autogen_agentchat.teams.BaseGroupChat.run_stream` method. This method returns a generator that yields messages produced by the agents in the team as they are generated, with the final item being the {py:class}`~autogen_agentchat.base.TaskResult` object."
   ]
  },
  {
   "cell_type": "code",
   "execution_count": 6,
   "metadata": {},
   "outputs": [
    {
     "name": "stdout",
     "output_type": "stream",
     "text": [
      "source='user' models_usage=None content='Write a short poem about the fall season.' type='TextMessage'\n",
      "source='primary' models_usage=RequestUsage(prompt_tokens=28, completion_tokens=147) content=\"In whispers of amber, the leaves softly sway,  \\nDancing in rhythm with the crisp autumn day.  \\nThe air, rich with spices of pumpkin and clove,  \\nWraps the earth gently in a golden-hued robe.  \\n\\nThe trees stand like torches, ablaze in the light,  \\nPainting the horizon with colors so bright.  \\nCider's warm comfort, the chill in the air,  \\nWhisper of harvests and time to prepare.  \\n\\nUnder skies brushed with shades of crimson and gold,  \\nThe world slows to slumber as night takes its hold.  \\nIn the heart of the season, we find stillness and peace,  \\nEmbracing the beauty in the year's slow release.  \" type='TextMessage'\n",
      "source='critic' models_usage=RequestUsage(prompt_tokens=192, completion_tokens=180) content=\"This poem beautifully captures the essence of fall, painting a vivid picture of the season's charm and tranquility. The imagery of leaves swaying, trees ablaze with color, and the aroma of autumn spices is evocative and engaging. You've succeeded in emphasizing the warmth and coziness synonymous with fall while also hinting at transformation and preparation as we move towards the year's end.\\n\\nA couple of suggestions to enhance the poem further:\\n\\n1. Consider adding a few more sensory descriptions to make readers feel more immersed. Perhaps the crunch of leaves underfoot or the sound of geese flying south.\\n\\n2. The rhythm of the lines is lovely, but you can experiment with the stanza structure or rhyme scheme to add some variation, providing an unexpected twist or heightening the emotional impact.\\n\\nOverall, it’s an evocative and serene exploration of fall. A few tweaks could make it even more immersive and memorable. \" type='TextMessage'\n",
      "source='primary' models_usage=RequestUsage(prompt_tokens=365, completion_tokens=171) content=\"Thank you for your thoughtful feedback! I appreciate your suggestions for enhancing the sensory experience and playing with structure. Here's a revised version incorporating those ideas:  \\n\\n---\\n\\nLeaves crunch beneath our wandering feet,  \\nAs flocks of geese call, a farewell sweet.  \\nThe air hums with whispers of stories untold,  \\nOf harvests gathered and secrets of old.  \\n\\nEmbers of twilight flicker in the sky,  \\nA tapestry woven where day meets the night.  \\nThe scent of cinnamon dances around,  \\nAs shadows of autumn embrace the ground.  \\n\\nBoughs draped in gold and scarlet attire,  \\nEmbrace the wild wind like a waltzing choir.  \\nThe season unfolds with a tender release,  \\nIn the arms of fall, we find our peace.  \\n\\n---\\n\\nLet me know what you think of this version!\" type='TextMessage'\n",
      "source='critic' models_usage=RequestUsage(prompt_tokens=553, completion_tokens=145) content='This revised version is truly enchanting, and you\\'ve done a wonderful job of incorporating sensory details to deepen the reader\\'s experience. The addition of \"leaves crunch beneath our wandering feet\" and \"flocks of geese call\" enhances the auditory imagery, engaging more senses. The imagery of \"embers of twilight flicker\" and \"tapestry woven where day meets the night\" is especially vivid and beautiful, lending a magical quality to the poem.\\n\\nStructurally, shifting the focus in each stanza adds depth and variation, while the consistent rhyme scheme maintains a soothing and rhythmic flow.\\n\\nOverall, your enhancements effectively capture the essence of autumn, making the poem more immersive and evocative. Great work!  \\n\\nAPPROVE' type='TextMessage'\n",
      "Stop Reason: Text 'APPROVE' mentioned\n"
     ]
    }
   ],
   "source": [
    "# When running inside a script, use a async main function and call it from `asyncio.run(...)`.\n",
    "await team.reset()  # Reset the team for a new task.\n",
    "async for message in team.run_stream(task=\"Write a short poem about the fall season.\"):  # type: ignore\n",
    "    if isinstance(message, TaskResult):\n",
    "        print(\"Stop Reason:\", message.stop_reason)\n",
    "    else:\n",
    "        print(message)"
   ]
  },
  {
   "cell_type": "markdown",
   "metadata": {},
   "source": [
    "As demonstrated in the example above, you can determine the reason why the team stopped by checking the {py:attr}`~autogen_agentchat.base.TaskResult.stop_reason` attribute.\n",
    "\n",
    "The {py:meth}`~autogen_agentchat.ui.Console` method provides a convenient way to print messages to the console with proper formatting.\n"
   ]
  },
  {
   "cell_type": "code",
   "execution_count": 7,
   "metadata": {},
   "outputs": [
    {
     "name": "stdout",
     "output_type": "stream",
     "text": [
      "---------- user ----------\n",
      "Write a short poem about the fall season.\n",
      "---------- primary ----------\n",
      "Leaves in amber hues descend,  \n",
      "Whispers in the cool breeze send,  \n",
      "Crisp air dances through the trees,  \n",
      "A serenade of autumn’s ease.  \n",
      "\n",
      "Harvest moons and cozy nights,  \n",
      "Frosty mornings, softer lights,  \n",
      "Pumpkin spice and sweater's weave,  \n",
      "Magic lingers as branches leave.  \n",
      "\n",
      "In this season, time slows down,  \n",
      "Nature wears her golden crown,  \n",
      "A fleeting beauty, vivid, bright,  \n",
      "Before the world succumbs to white.  \n",
      "---------- critic ----------\n",
      "Your poem beautifully captures the essence of the fall season with vivid imagery and a soothing rhythm. Here are a few suggestions to enhance it even further:\n",
      "\n",
      "1. **Imagery Enhancement**: Consider adding more sensory details to evoke the scents, sounds, and feelings of fall. For example, mentioning the rustling sound of leaves or the smell of bonfires could enrich the reader's experience.\n",
      "\n",
      "2. **Structure and Flow**: While the rhyme scheme is consistent, you might want to experiment with varying the line lengths for a more dynamic flow. This could introduce a natural rhythm that mirrors the unpredictability of autumn weather.\n",
      "\n",
      "3. **Theme Expansion**: You could expand on the transition theme by briefly alluding to the impact of fall on wildlife or personal emotions, adding more depth to the poem.\n",
      "\n",
      "Overall, your poem is a lovely reflection of autumn's charm. With a few adjustments, it could become even more evocative and resonate more deeply with readers. \n",
      "\n",
      "Please revise your poem with these suggestions, and I'll be happy to review it again.\n",
      "---------- primary ----------\n",
      "Thank you for the thoughtful feedback. Here’s a revised version of the poem, incorporating your suggestions:\n",
      "\n",
      "Leaves in amber hues descend,  \n",
      "Whispering secrets the breezes send.  \n",
      "Rustling softly, a crisp refrain,  \n",
      "Hints of bonfires in the lane.  \n",
      "\n",
      "Mornings kissed by frosty mist,  \n",
      "Twilight's glow in gentle twist.  \n",
      "Wild geese call with haunting song,  \n",
      "As cozy nights stretch long and strong.  \n",
      "\n",
      "Golden fields under harvest moon,  \n",
      "Nature sings a fleeting tune.  \n",
      "Hearts warmed by the season’s grace,  \n",
      "Bidding farewell to summer’s embrace.  \n",
      "\n",
      "In this vibrant, changing dance,  \n",
      "Find the magic in each glance,  \n",
      "A transient time, where stories weave,  \n",
      "Before the world is poised to leave.  \n",
      "\n",
      "I hope this version captures more of the senses and themes we discussed. Let me know your thoughts!\n",
      "---------- critic ----------\n",
      "This revised version of your poem wonderfully incorporates additional sensory details and enhances the thematic depth. The imagery is vivid and engaging, effectively drawing the reader into the scene. You've achieved a beautiful balance between visual and emotional elements that bring autumn to life.\n",
      "\n",
      "1. **Sensory Details**: The allusions to bonfires and the rustling sound of leaves enrich the texture of the poem, and the inclusion of wildlife with the mention of wild geese adds an authentic touch.\n",
      "\n",
      "2. **Flow and Rhythm**: The subtle variation in line lengths creates a more dynamic rhythm that reflects the mood and essence of fall perfectly.\n",
      "\n",
      "3. **Expanded Theme**: Your expansion on the themes of transition and the emotional impact of the season through \"hearts warmed by the season’s grace\" adds depth, making the poem more relatable and evocative.\n",
      "\n",
      "Overall, this version is beautifully crafted, capturing the enchanting essence of autumn. Well done! APPROVE\n"
     ]
    },
    {
     "data": {
      "text/plain": [
       "TaskResult(messages=[TextMessage(source='user', models_usage=None, content='Write a short poem about the fall season.', type='TextMessage'), TextMessage(source='primary', models_usage=RequestUsage(prompt_tokens=28, completion_tokens=103), content=\"Leaves in amber hues descend,  \\nWhispers in the cool breeze send,  \\nCrisp air dances through the trees,  \\nA serenade of autumn’s ease.  \\n\\nHarvest moons and cozy nights,  \\nFrosty mornings, softer lights,  \\nPumpkin spice and sweater's weave,  \\nMagic lingers as branches leave.  \\n\\nIn this season, time slows down,  \\nNature wears her golden crown,  \\nA fleeting beauty, vivid, bright,  \\nBefore the world succumbs to white.  \", type='TextMessage'), TextMessage(source='critic', models_usage=RequestUsage(prompt_tokens=148, completion_tokens=210), content=\"Your poem beautifully captures the essence of the fall season with vivid imagery and a soothing rhythm. Here are a few suggestions to enhance it even further:\\n\\n1. **Imagery Enhancement**: Consider adding more sensory details to evoke the scents, sounds, and feelings of fall. For example, mentioning the rustling sound of leaves or the smell of bonfires could enrich the reader's experience.\\n\\n2. **Structure and Flow**: While the rhyme scheme is consistent, you might want to experiment with varying the line lengths for a more dynamic flow. This could introduce a natural rhythm that mirrors the unpredictability of autumn weather.\\n\\n3. **Theme Expansion**: You could expand on the transition theme by briefly alluding to the impact of fall on wildlife or personal emotions, adding more depth to the poem.\\n\\nOverall, your poem is a lovely reflection of autumn's charm. With a few adjustments, it could become even more evocative and resonate more deeply with readers. \\n\\nPlease revise your poem with these suggestions, and I'll be happy to review it again.\", type='TextMessage'), TextMessage(source='primary', models_usage=RequestUsage(prompt_tokens=351, completion_tokens=180), content=\"Thank you for the thoughtful feedback. Here’s a revised version of the poem, incorporating your suggestions:\\n\\nLeaves in amber hues descend,  \\nWhispering secrets the breezes send.  \\nRustling softly, a crisp refrain,  \\nHints of bonfires in the lane.  \\n\\nMornings kissed by frosty mist,  \\nTwilight's glow in gentle twist.  \\nWild geese call with haunting song,  \\nAs cozy nights stretch long and strong.  \\n\\nGolden fields under harvest moon,  \\nNature sings a fleeting tune.  \\nHearts warmed by the season’s grace,  \\nBidding farewell to summer’s embrace.  \\n\\nIn this vibrant, changing dance,  \\nFind the magic in each glance,  \\nA transient time, where stories weave,  \\nBefore the world is poised to leave.  \\n\\nI hope this version captures more of the senses and themes we discussed. Let me know your thoughts!\", type='TextMessage'), TextMessage(source='critic', models_usage=RequestUsage(prompt_tokens=548, completion_tokens=187), content='This revised version of your poem wonderfully incorporates additional sensory details and enhances the thematic depth. The imagery is vivid and engaging, effectively drawing the reader into the scene. You\\'ve achieved a beautiful balance between visual and emotional elements that bring autumn to life.\\n\\n1. **Sensory Details**: The allusions to bonfires and the rustling sound of leaves enrich the texture of the poem, and the inclusion of wildlife with the mention of wild geese adds an authentic touch.\\n\\n2. **Flow and Rhythm**: The subtle variation in line lengths creates a more dynamic rhythm that reflects the mood and essence of fall perfectly.\\n\\n3. **Expanded Theme**: Your expansion on the themes of transition and the emotional impact of the season through \"hearts warmed by the season’s grace\" adds depth, making the poem more relatable and evocative.\\n\\nOverall, this version is beautifully crafted, capturing the enchanting essence of autumn. Well done! APPROVE', type='TextMessage')], stop_reason=\"Text 'APPROVE' mentioned\")"
      ]
     },
     "execution_count": 7,
     "metadata": {},
     "output_type": "execute_result"
    }
   ],
   "source": [
    "await team.reset()  # Reset the team for a new task.\n",
    "await Console(team.run_stream(task=\"Write a short poem about the fall season.\"))  # Stream the messages to the console."
   ]
  },
  {
   "cell_type": "markdown",
   "metadata": {},
   "source": [
    "## Resetting a Team\n",
    "\n",
    "You can reset the team by calling the {py:meth}`~autogen_agentchat.teams.BaseGroupChat.reset` method. This method will clear the team's state, including all agents.\n",
    "It will call the each agent's {py:meth}`~autogen_agentchat.base.ChatAgent.on_reset` method to clear the agent's state."
   ]
  },
  {
   "cell_type": "code",
   "execution_count": 8,
   "metadata": {},
   "outputs": [],
   "source": [
    "await team.reset()  # Reset the team for the next run."
   ]
  },
  {
   "cell_type": "markdown",
   "metadata": {},
   "source": [
    "It is usually a good idea to reset the team if the next task is not related to the previous task.\n",
    "However, if the next task is related to the previous task, you don't need to reset and you can instead\n",
    "resume the team."
   ]
  },
  {
   "cell_type": "markdown",
   "metadata": {},
   "source": [
    "## Stopping a Team\n",
    "\n",
    "Apart from automatic termination conditions such as {py:class}`~autogen_agentchat.conditions.TextMentionTermination`\n",
    "that stops the team based on the internal state of the team, you can also stop the team\n",
    "from outside by using the {py:class}`~autogen_agentchat.conditions.ExternalTermination`.\n",
    "\n",
    "Calling {py:meth}`~autogen_agentchat.conditions.ExternalTermination.set` \n",
    "on {py:class}`~autogen_agentchat.conditions.ExternalTermination` will stop\n",
    "the team when the current agent's turn is over.\n",
    "Thus, the team may not stop immediately.\n",
    "This allows the current agent to finish its turn and broadcast the final message to the team\n",
    "before the team stops, keeping the team's state consistent."
   ]
  },
  {
   "cell_type": "code",
   "execution_count": 9,
   "metadata": {},
   "outputs": [
    {
     "name": "stdout",
     "output_type": "stream",
     "text": [
      "---------- user ----------\n",
      "Write a short poem about the fall season.\n",
      "---------- primary ----------\n",
      "Crisp whispers weave through golden trees,  \n",
      "Beneath a sky of boundless blue,  \n",
      "The dance of leaves on the gentle breeze,  \n",
      "In hues of amber, russet, and hue.  \n",
      "\n",
      "Pumpkins rest on fields of rust,  \n",
      "Harvest scents in the cooling air,  \n",
      "A tapestry of autumn's trust,  \n",
      "Painted with love and nature's care.  \n",
      "\n",
      "A quiet hush embraces the land,  \n",
      "As daylight gently fades away,  \n",
      "In fall's embrace, hand in hand,  \n",
      "We savor the fleeting, wondrous decay.  \n"
     ]
    },
    {
     "data": {
      "text/plain": [
       "TaskResult(messages=[TextMessage(source='user', models_usage=None, content='Write a short poem about the fall season.', type='TextMessage'), TextMessage(source='primary', models_usage=RequestUsage(prompt_tokens=28, completion_tokens=114), content=\"Crisp whispers weave through golden trees,  \\nBeneath a sky of boundless blue,  \\nThe dance of leaves on the gentle breeze,  \\nIn hues of amber, russet, and hue.  \\n\\nPumpkins rest on fields of rust,  \\nHarvest scents in the cooling air,  \\nA tapestry of autumn's trust,  \\nPainted with love and nature's care.  \\n\\nA quiet hush embraces the land,  \\nAs daylight gently fades away,  \\nIn fall's embrace, hand in hand,  \\nWe savor the fleeting, wondrous decay.  \", type='TextMessage')], stop_reason='External termination requested')"
      ]
     },
     "execution_count": 9,
     "metadata": {},
     "output_type": "execute_result"
    }
   ],
   "source": [
    "# Create a new team with an external termination condition.\n",
    "external_termination = ExternalTermination()\n",
    "team = RoundRobinGroupChat(\n",
    "    [primary_agent, critic_agent],\n",
    "    termination_condition=external_termination | text_termination,  # Use the bitwise OR operator to combine conditions.\n",
    ")\n",
    "\n",
    "# Run the team in a background task.\n",
    "run = asyncio.create_task(Console(team.run_stream(task=\"Write a short poem about the fall season.\")))\n",
    "\n",
    "# Wait for some time.\n",
    "await asyncio.sleep(0.1)\n",
    "\n",
    "# Stop the team.\n",
    "external_termination.set()\n",
    "\n",
    "# Wait for the team to finish.\n",
    "await run"
   ]
  },
  {
   "cell_type": "markdown",
   "metadata": {},
   "source": [
    "From the ouput above, you can see the team stopped because the external termination condition was met,\n",
    "but the speaking agent was able to finish its turn before the team stopped."
   ]
  },
  {
   "cell_type": "markdown",
   "metadata": {},
   "source": [
    "## Resuming a Team\n",
    "\n",
    "Teams are stateful and maintains the conversation history and context\n",
    "after each run, unless you reset the team.\n",
    "\n",
    "You can resume a team to continue from where it left off by calling the {py:meth}`~autogen_agentchat.teams.BaseGroupChat.run` or {py:meth}`~autogen_agentchat.teams.BaseGroupChat.run_stream` method again\n",
    "without a new task.\n",
    "{py:class}`~autogen_agentchat.teams.RoundRobinGroupChat` will continue from the next agent in the round-robin order."
   ]
  },
  {
   "cell_type": "code",
   "execution_count": 10,
   "metadata": {},
   "outputs": [
    {
     "name": "stdout",
     "output_type": "stream",
     "text": [
      "---------- critic ----------\n",
      "This poem beautifully captures the essence of fall through its vivid imagery and serene tone. The second line, “Beneath a sky of boundless blue,” pairs well with the golden ambiance, contributing to a rich visual depiction. Similarly, the detailed description of leaves and their colors creates an enchanting visual that encapsulates the season's transformation.\n",
      "\n",
      "The second stanza evokes the sensory joys of autumn, blending earthy scents with visual elements. However, the phrase \"hues of amber, russet, and hue\" could be adjusted for clarity and flow, as the repetition of \"hue\" feels redundant. Consider diversifying the language here to maintain the poem's rhythmic elegance. \n",
      "\n",
      "The final stanza beautifully depicts the serene and reflective mood of fall, inviting readers to appreciate the sense of impermanence that accompanies the season. The line \"A quiet hush embraces the land\" sets an introspective tone, effectively concluding the poem on a resonant note.\n",
      "\n",
      "Overall, the poem does a splendid job of encapsulating the nuances of fall. With a small adjustment to the word choice in the first stanza, it would achieve a more polished flow. Keep up the excellent work in capturing autumn's essence!\n",
      "---------- primary ----------\n",
      "Thank you for your thoughtful feedback and kind words! Here's a revised version of the poem, addressing your suggestion:\n",
      "\n",
      "Crisp whispers weave through golden trees,  \n",
      "Beneath a sky of boundless blue,  \n",
      "The dance of leaves on the gentle breeze,  \n",
      "In shades of amber, crimson, and new.  \n",
      "\n",
      "Pumpkins rest on fields of rust,  \n",
      "Harvest scents in the cooling air,  \n",
      "A tapestry of autumn's trust,  \n",
      "Painted with love and nature's care.  \n",
      "\n",
      "A quiet hush embraces the land,  \n",
      "As daylight gently fades away,  \n",
      "In fall's embrace, hand in hand,  \n",
      "We savor the fleeting, wondrous decay.  \n",
      "\n",
      "I appreciate your input and hope this version resonates even more vividly with the essence of fall.\n",
      "---------- critic ----------\n",
      "APPROVE\n"
     ]
    },
    {
     "data": {
      "text/plain": [
       "TaskResult(messages=[TextMessage(source='critic', models_usage=RequestUsage(prompt_tokens=159, completion_tokens=237), content='This poem beautifully captures the essence of fall through its vivid imagery and serene tone. The second line, “Beneath a sky of boundless blue,” pairs well with the golden ambiance, contributing to a rich visual depiction. Similarly, the detailed description of leaves and their colors creates an enchanting visual that encapsulates the season\\'s transformation.\\n\\nThe second stanza evokes the sensory joys of autumn, blending earthy scents with visual elements. However, the phrase \"hues of amber, russet, and hue\" could be adjusted for clarity and flow, as the repetition of \"hue\" feels redundant. Consider diversifying the language here to maintain the poem\\'s rhythmic elegance. \\n\\nThe final stanza beautifully depicts the serene and reflective mood of fall, inviting readers to appreciate the sense of impermanence that accompanies the season. The line \"A quiet hush embraces the land\" sets an introspective tone, effectively concluding the poem on a resonant note.\\n\\nOverall, the poem does a splendid job of encapsulating the nuances of fall. With a small adjustment to the word choice in the first stanza, it would achieve a more polished flow. Keep up the excellent work in capturing autumn\\'s essence!', type='TextMessage'), TextMessage(source='primary', models_usage=RequestUsage(prompt_tokens=389, completion_tokens=153), content=\"Thank you for your thoughtful feedback and kind words! Here's a revised version of the poem, addressing your suggestion:\\n\\nCrisp whispers weave through golden trees,  \\nBeneath a sky of boundless blue,  \\nThe dance of leaves on the gentle breeze,  \\nIn shades of amber, crimson, and new.  \\n\\nPumpkins rest on fields of rust,  \\nHarvest scents in the cooling air,  \\nA tapestry of autumn's trust,  \\nPainted with love and nature's care.  \\n\\nA quiet hush embraces the land,  \\nAs daylight gently fades away,  \\nIn fall's embrace, hand in hand,  \\nWe savor the fleeting, wondrous decay.  \\n\\nI appreciate your input and hope this version resonates even more vividly with the essence of fall.\", type='TextMessage'), TextMessage(source='critic', models_usage=RequestUsage(prompt_tokens=559, completion_tokens=4), content='APPROVE', type='TextMessage')], stop_reason=\"Text 'APPROVE' mentioned\")"
      ]
     },
     "execution_count": 10,
     "metadata": {},
     "output_type": "execute_result"
    }
   ],
   "source": [
    "await Console(team.run_stream())  # Resume the team to continue the last task."
   ]
  },
  {
   "cell_type": "markdown",
   "metadata": {},
   "source": [
    "You can see the team resumed from where it left off in the output above,\n",
    "and the first message is from the next agent after the last agent that spoke\n",
    "before the team stopped.\n",
    "\n",
    "Let's resume the team again with a new task while keeping the context about the previous task."
   ]
  },
  {
   "cell_type": "code",
   "execution_count": 11,
   "metadata": {},
   "outputs": [
    {
     "name": "stdout",
     "output_type": "stream",
     "text": [
      "---------- user ----------\n",
      "将这首诗用中文唐诗风格写一遍。\n",
      "---------- primary ----------\n",
      "肃肃秋风催金树，  \n",
      "碧空无尽如画图。  \n",
      "落叶翩翩逐风舞，  \n",
      "丹黄妆点山河殊。  \n",
      "\n",
      "南瓜田里锈斑陈，  \n",
      "丰收气息满乾坤。  \n",
      "织就秋色一幅画，  \n",
      "自然妙手爱意真。  \n",
      "\n",
      "静谧送走西斜日，  \n",
      "秋光暗淡别殷勤。  \n",
      "同享此时秋意浓，  \n",
      "惜那瞬间美缤纷。  \n",
      "---------- critic ----------\n",
      "这首诗在用唐诗风格重现秋季的原版诗中表现得非常优雅，并捕捉到了秋天的宁静和美丽。您的用词精准且有很好的意境。\n",
      "\n",
      "首联\"肃肃秋风催金树，碧空无尽如画图。\"形象地描绘了秋风吹拂金色树木与无尽的蓝天，把季节的转变栩栩如生地展现出来。\n",
      "\n",
      "\"落叶翩翩逐风舞，丹黄妆点山河殊。\"很好地展示了叶子的颜色和动态，使人很容易想象出这一美景。\n",
      "\n",
      "颔联与颈联继续表现了秋天的丰收和自然的关怀，\"南瓜田里锈斑陈，丰收气息满乾坤。\"形象生动，而\"织就秋色一幅画，自然妙手爱意真。\"则传递了大自然的精妙和人们对其的感激。\n",
      "\n",
      "尾联将秋天的宁静和短暂之美表达得非常到位。\"静谧送走西斜日，秋光暗淡别殷勤。\"让读者感受到时间的流逝和秋天的静谧；\"同享此时秋意浓，惜那瞬间美缤纷。\"充满对美好瞬间的珍惜。\n",
      "\n",
      "整体来看，您的作品既保留了原诗的意境，又充满了古诗的韵味。非常出色的改编！\n",
      "---------- primary ----------\n",
      "感谢您的详细评价和鼓励！很高兴这首改编的唐诗风格作品能够传达出秋天的宁静与美丽，并且保留了原诗的意境。同时，我也很享受在古诗词中重新演绎秋季的过程，希望这首诗能为您带来秋日的怡然之感。感谢您的阅读和反馈！\n",
      "---------- critic ----------\n",
      "APPROVE\n"
     ]
    },
    {
     "data": {
      "text/plain": [
       "TaskResult(messages=[TextMessage(source='user', models_usage=None, content='将这首诗用中文唐诗风格写一遍。', type='TextMessage'), TextMessage(source='primary', models_usage=RequestUsage(prompt_tokens=575, completion_tokens=119), content='肃肃秋风催金树，  \\n碧空无尽如画图。  \\n落叶翩翩逐风舞，  \\n丹黄妆点山河殊。  \\n\\n南瓜田里锈斑陈，  \\n丰收气息满乾坤。  \\n织就秋色一幅画，  \\n自然妙手爱意真。  \\n\\n静谧送走西斜日，  \\n秋光暗淡别殷勤。  \\n同享此时秋意浓，  \\n惜那瞬间美缤纷。  ', type='TextMessage'), TextMessage(source='critic', models_usage=RequestUsage(prompt_tokens=711, completion_tokens=344), content='这首诗在用唐诗风格重现秋季的原版诗中表现得非常优雅，并捕捉到了秋天的宁静和美丽。您的用词精准且有很好的意境。\\n\\n首联\"肃肃秋风催金树，碧空无尽如画图。\"形象地描绘了秋风吹拂金色树木与无尽的蓝天，把季节的转变栩栩如生地展现出来。\\n\\n\"落叶翩翩逐风舞，丹黄妆点山河殊。\"很好地展示了叶子的颜色和动态，使人很容易想象出这一美景。\\n\\n颔联与颈联继续表现了秋天的丰收和自然的关怀，\"南瓜田里锈斑陈，丰收气息满乾坤。\"形象生动，而\"织就秋色一幅画，自然妙手爱意真。\"则传递了大自然的精妙和人们对其的感激。\\n\\n尾联将秋天的宁静和短暂之美表达得非常到位。\"静谧送走西斜日，秋光暗淡别殷勤。\"让读者感受到时间的流逝和秋天的静谧；\"同享此时秋意浓，惜那瞬间美缤纷。\"充满对美好瞬间的珍惜。\\n\\n整体来看，您的作品既保留了原诗的意境，又充满了古诗的韵味。非常出色的改编！', type='TextMessage'), TextMessage(source='primary', models_usage=RequestUsage(prompt_tokens=1048, completion_tokens=86), content='感谢您的详细评价和鼓励！很高兴这首改编的唐诗风格作品能够传达出秋天的宁静与美丽，并且保留了原诗的意境。同时，我也很享受在古诗词中重新演绎秋季的过程，希望这首诗能为您带来秋日的怡然之感。感谢您的阅读和反馈！', type='TextMessage'), TextMessage(source='critic', models_usage=RequestUsage(prompt_tokens=1151, completion_tokens=3), content='APPROVE', type='TextMessage')], stop_reason=\"Text 'APPROVE' mentioned\")"
      ]
     },
     "execution_count": 11,
     "metadata": {},
     "output_type": "execute_result"
    }
   ],
   "source": [
    "# The new task is to translate the same poem to Chinese Tang-style poetry.\n",
    "await Console(team.run_stream(task=\"将这首诗用中文唐诗风格写一遍。\"))"
   ]
  },
  {
   "cell_type": "markdown",
   "metadata": {},
   "source": [
    "## Aborting a Team\n",
    "\n",
    "You can abort a call to {py:meth}`~autogen_agentchat.teams.BaseGroupChat.run` or {py:meth}`~autogen_agentchat.teams.BaseGroupChat.run_stream`\n",
    "during execution by setting a {py:class}`~autogen_core.CancellationToken` passed to the `cancellation_token` parameter.\n",
    "\n",
    "Different from stopping a team, aborting a team will immediately stop the team and raise a {py:class}`~asyncio.CancelledError` exception.\n",
    "\n",
    "```{note}\n",
    "The caller will get a {py:class}`~asyncio.CancelledError` exception when the team is aborted.\n",
    "```"
   ]
  },
  {
   "cell_type": "code",
   "execution_count": 12,
   "metadata": {},
   "outputs": [
    {
     "name": "stdout",
     "output_type": "stream",
     "text": [
      "Task was cancelled.\n"
     ]
    }
   ],
   "source": [
    "# Create a cancellation token.\n",
    "cancellation_token = CancellationToken()\n",
    "\n",
    "# Use another coroutine to run the team.\n",
    "run = asyncio.create_task(\n",
    "    team.run(\n",
    "        task=\"Translate the poem to Spanish.\",\n",
    "        cancellation_token=cancellation_token,\n",
    "    )\n",
    ")\n",
    "\n",
    "# Cancel the run.\n",
    "cancellation_token.cancel()\n",
    "\n",
    "try:\n",
    "    result = await run  # This will raise a CancelledError.\n",
    "except asyncio.CancelledError:\n",
    "    print(\"Task was cancelled.\")"
   ]
  },
  {
   "cell_type": "code",
   "execution_count": null,
   "metadata": {},
   "outputs": [],
   "source": []
  }
 ],
 "metadata": {
  "kernelspec": {
   "display_name": "Python 3 (ipykernel)",
   "language": "python",
   "name": "python3"
  },
  "language_info": {
   "codemirror_mode": {
    "name": "ipython",
    "version": 3
   },
   "file_extension": ".py",
   "mimetype": "text/x-python",
   "name": "python",
   "nbconvert_exporter": "python",
   "pygments_lexer": "ipython3",
   "version": "3.10.13"
  }
 },
 "nbformat": 4,
 "nbformat_minor": 4
}
